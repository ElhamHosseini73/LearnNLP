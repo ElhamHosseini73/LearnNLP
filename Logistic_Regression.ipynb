{
  "nbformat": 4,
  "nbformat_minor": 0,
  "metadata": {
    "colab": {
      "provenance": [],
      "authorship_tag": "ABX9TyPU2Uz3NtCDoZavBeg7Khqk",
      "include_colab_link": true
    },
    "kernelspec": {
      "name": "python3",
      "display_name": "Python 3"
    },
    "language_info": {
      "name": "python"
    }
  },
  "cells": [
    {
      "cell_type": "markdown",
      "metadata": {
        "id": "view-in-github",
        "colab_type": "text"
      },
      "source": [
        "<a href=\"https://colab.research.google.com/github/ElhamHosseini73/LearnNLP/blob/main/Logistic_Regression.ipynb\" target=\"_parent\"><img src=\"https://colab.research.google.com/assets/colab-badge.svg\" alt=\"Open In Colab\"/></a>"
      ]
    },
    {
      "cell_type": "code",
      "execution_count": 69,
      "metadata": {
        "id": "50bgDNAktFxo"
      },
      "outputs": [],
      "source": [
        "# you will be implementing logistic regression for sentiment analysis on tweets.\n",
        "# Given a tweet, you will decide if it has a positive sentiment or a negative one\n",
        "\n",
        "#step:\n",
        "#Learn how to extract features for logistic regression given some text\n",
        "#Implement logistic regression from scratch\n",
        "#Apply logistic regression on a natural language processing task\n",
        "#Test using your logistic regression\n",
        "#Perform error analysis"
      ]
    },
    {
      "cell_type": "code",
      "source": [
        "import nltk\n",
        "nltk.download('twitter_samples')\n",
        "from nltk.corpus import twitter_samples"
      ],
      "metadata": {
        "id": "qwSND26OwEjZ"
      },
      "execution_count": null,
      "outputs": []
    },
    {
      "cell_type": "code",
      "source": [
        "\n",
        "all_positive_tweets = twitter_samples.strings('positive_tweets.json')\n",
        "all_negative_tweets = twitter_samples.strings('negative_tweets.json')\n",
        "\n",
        "data = all_positive_tweets +all_negative_tweets\n",
        "\n",
        "lable_positive = [1]* len(all_positive_tweets)\n",
        "lable_negative = [0]* len(all_negative_tweets)\n",
        "\n",
        "lables = lable_positive + lable_negative"
      ],
      "metadata": {
        "id": "DTUDJknKwio-"
      },
      "execution_count": 71,
      "outputs": []
    },
    {
      "cell_type": "code",
      "source": [
        "#Train test split: 20% will be in the test set, and 80% in the training set.\n",
        "len_pos_data_train = int(len(all_positive_tweets)*0.8)\n",
        "len_neg_data_train = int(len(all_negative_tweets)*0.8)\n",
        "\n",
        "x_train = all_positive_tweets[0:len_pos_data_train] + all_negative_tweets[0:len_neg_data_train]\n",
        "x_test =  all_positive_tweets[len_pos_data_train:] + all_negative_tweets[len_neg_data_train:]\n",
        "\n",
        "lable_train = lable_positive[0:len_pos_data_train]+lable_negative[0:len_pos_data_train]\n",
        "lable_test =  lable_positive[len_pos_data_train:]+lable_negative[len_pos_data_train:]"
      ],
      "metadata": {
        "id": "_Ng9LAlKx_6B"
      },
      "execution_count": 72,
      "outputs": []
    },
    {
      "cell_type": "code",
      "source": [
        "#preprocessing twitter\n",
        "\n",
        "import re\n",
        "nltk.download('stopwords')\n",
        "from nltk.corpus import stopwords\n",
        "from nltk.tokenize import TweetTokenizer\n",
        "import string\n",
        "from nltk.stem import PorterStemmer\n",
        "\n",
        "stopwords_english = stopwords.words('english')\n",
        "\n",
        "tokenizer = TweetTokenizer(preserve_case=False, strip_handles=True,\n",
        "                               reduce_len=True)\n",
        "\n",
        "\n",
        "# Instantiate stemming class\n",
        "stemmer = PorterStemmer()\n",
        "\n",
        "def preprocessing_twitter(text):\n",
        "  # remove old style retweet text \"RT\"\n",
        "  text = re.sub(r'^RT[\\s]+', '', text)\n",
        "\n",
        "  # remove hyperlinks\n",
        "  text = re.sub(r'https?://[^\\s\\n\\r]+', '', text)\n",
        "\n",
        "  # remove hashtags\n",
        "  # only removing the hash # sign from the word\n",
        "  text = re.sub(r'#', '', text)\n",
        "\n",
        "  # tokenize tweets\n",
        "  text_tokens = tokenizer.tokenize(text)\n",
        "\n",
        "  text_clean = []\n",
        "\n",
        "  for word in text_tokens: # Go through every word in your tokens list\n",
        "    if (word not in stopwords_english and  # remove stopwords\n",
        "        word not in string.punctuation):  # remove punctuation\n",
        "        text_clean.append(word)\n",
        "\n",
        "  text_stem = []\n",
        "\n",
        "  for word in text_clean:\n",
        "    stem_word = stemmer.stem(word)  # stemming word\n",
        "    text_stem.append(stem_word)  # append to the list\n",
        "\n",
        "  return text_stem\n",
        "\n"
      ],
      "metadata": {
        "id": "soaND04O-0Q9"
      },
      "execution_count": null,
      "outputs": []
    },
    {
      "cell_type": "code",
      "source": [
        "\n",
        "# this function will build a dictionary where we can lookup how many times a word appears in the lists of positive or negative tweets.\n",
        "\n",
        "def build_freqs(tweets, lables):\n",
        "\n",
        "  #   Input: tweets: a list of tweets && lables: an m x 1 array with the sentiment label of each tweet (either 0 or 1)\n",
        "  #   Output: freqs: a dictionary mapping each (word, lable) pair to its frequency\n",
        "\n",
        "  word_freq = {}\n",
        "\n",
        "  for index , tweet in enumerate(tweets):\n",
        "    process_tweet = preprocessing_twitter(tweet)\n",
        "\n",
        "    for token in process_tweet:\n",
        "\n",
        "      if (token,lables[index]) in word_freq:\n",
        "        word_freq[token,lables[index]] = word_freq[token,lables[index]]+1\n",
        "      else:\n",
        "        word_freq[token,lables[index]] = 1\n",
        "\n",
        "  return word_freq"
      ],
      "metadata": {
        "id": "rJ_52BuOIMl2"
      },
      "execution_count": 74,
      "outputs": []
    },
    {
      "cell_type": "code",
      "source": [
        "word_freq = build_freqs(data,lables)"
      ],
      "metadata": {
        "id": "XCOsNl6P9Mhd"
      },
      "execution_count": 75,
      "outputs": []
    },
    {
      "cell_type": "code",
      "source": [
        "import numpy as np\n",
        "\n",
        "#Extracting the features\n",
        "#The first feature is the number of positive words in a tweet.\n",
        "#The second feature is the number of negative words in a tweet.\n",
        "#Then train your logistic regression classifier on these features.\n",
        "\n",
        "def extract_feature(data):\n",
        "\n",
        "  feature_extraction = np.zeros((len(data),3))\n",
        "\n",
        "  for index ,text in enumerate(data) :\n",
        "    rocess_tweet = preprocessing_twitter(text)\n",
        "\n",
        "    #Delete the duplicate item in the list\n",
        "    punique_list = list(set(rocess_tweet))\n",
        "\n",
        "    sum_positive = 0\n",
        "    sum_negetive = 0\n",
        "\n",
        "    for word in punique_list:\n",
        "      if (word,1) in word_freq:\n",
        "        sum_positive = sum_positive+word_freq[(word,1)]\n",
        "      if (word,0) in word_freq:\n",
        "        sum_negetive = sum_negetive+word_freq[(word,0)]\n",
        "\n",
        "    feature_extraction[index,:] = [1,sum_positive,sum_negetive]\n",
        "\n",
        "  return feature_extraction\n",
        "\n",
        "\n"
      ],
      "metadata": {
        "id": "mSlERU0N5bHJ"
      },
      "execution_count": 174,
      "outputs": []
    },
    {
      "cell_type": "code",
      "source": [
        "X=extract_feature(data)\n",
        "print(X)"
      ],
      "metadata": {
        "id": "TZluApD-HiyC"
      },
      "execution_count": null,
      "outputs": []
    },
    {
      "cell_type": "code",
      "source": [
        "Xpositive= X[0:len(all_positive_tweets)]\n",
        "Xnegetive = X[len(all_positive_tweets):]\n",
        "\n",
        "Xtrain = np.concatenate(( Xpositive[0:int(len(Xpositive)*0.8)], Xnegetive[0:int(len(Xnegetive)*0.8)]))\n",
        "Xtest =  np.concatenate(( Xpositive[int(len(Xpositive)*0.8):], Xnegetive[int(len(Xpositive)*0.8):]))"
      ],
      "metadata": {
        "id": "5yQFUIC7t9fA"
      },
      "execution_count": 185,
      "outputs": []
    },
    {
      "cell_type": "code",
      "source": [
        "def sigmoid(Z):\n",
        "  result = 1/(1+ np.exp(-Z))\n",
        "  return result"
      ],
      "metadata": {
        "id": "XZ9Izoin26lz"
      },
      "execution_count": 186,
      "outputs": []
    },
    {
      "cell_type": "code",
      "source": [
        "def cost(h,y):\n",
        "\n",
        "  m = len(y)\n",
        "  y = np.array([y])\n",
        "\n",
        "  result_cost = -1/m*( np.dot(y,np.log(h)) +  np.dot((1-y),np.log(1-h)))\n",
        "\n",
        "\n",
        "  return result_cost\n",
        "\n"
      ],
      "metadata": {
        "id": "dOWUajCNKslD"
      },
      "execution_count": 201,
      "outputs": []
    },
    {
      "cell_type": "code",
      "source": [
        "def update_weight(X,Y,h,alpha,theta):\n",
        "  m = len(Y)\n",
        "  y = np.array([Y])\n",
        "\n",
        "  geradian = alpha/m*(np.dot((h-y.T).T,X))\n",
        "\n",
        "  theta = theta.T - geradian\n",
        "\n",
        "  return theta"
      ],
      "metadata": {
        "id": "G1IpjiW1cymR"
      },
      "execution_count": 202,
      "outputs": []
    },
    {
      "cell_type": "code",
      "source": [
        "#train\n",
        "def train(X,Y,theta):\n",
        "\n",
        "  z = np.dot(X, theta)\n",
        "\n",
        "  h = sigmoid(z)\n",
        "  result_cost = cost(h,Y)\n",
        "\n",
        "  theta = update_weight(X,Y,h,1e-8,theta)\n",
        "\n",
        "  return theta\n",
        "\n"
      ],
      "metadata": {
        "id": "uSf0UDlaxf_g"
      },
      "execution_count": 203,
      "outputs": []
    },
    {
      "cell_type": "code",
      "source": [
        "for i in range(1500):\n",
        "  if i == 0 :\n",
        "    theta = np.zeros((3,1))\n",
        "\n",
        "  theta = train(Xtrain,lable_train,theta)\n",
        "  theta = theta.T\n",
        "\n",
        "print(theta)\n"
      ],
      "metadata": {
        "colab": {
          "base_uri": "https://localhost:8080/"
        },
        "id": "U575DlyryLV2",
        "outputId": "bfab9c75-30f5-4cf8-a34b-5134acb08eb5"
      },
      "execution_count": 206,
      "outputs": [
        {
          "output_type": "stream",
          "name": "stdout",
          "text": [
            "[[ 3.59034814e-07]\n",
            " [ 1.38250312e-03]\n",
            " [-1.12103661e-03]]\n"
          ]
        }
      ]
    }
  ]
}