{
  "nbformat": 4,
  "nbformat_minor": 0,
  "metadata": {
    "colab": {
      "provenance": [],
      "authorship_tag": "ABX9TyMgLog3xcQjJQLbz2staYT5",
      "include_colab_link": true
    },
    "kernelspec": {
      "name": "python3",
      "display_name": "Python 3"
    },
    "language_info": {
      "name": "python"
    }
  },
  "cells": [
    {
      "cell_type": "markdown",
      "metadata": {
        "id": "view-in-github",
        "colab_type": "text"
      },
      "source": [
        "<a href=\"https://colab.research.google.com/github/ElhamHosseini73/LearnNLP/blob/main/Logistic_Regression.ipynb\" target=\"_parent\"><img src=\"https://colab.research.google.com/assets/colab-badge.svg\" alt=\"Open In Colab\"/></a>"
      ]
    },
    {
      "cell_type": "code",
      "execution_count": null,
      "metadata": {
        "id": "50bgDNAktFxo"
      },
      "outputs": [],
      "source": [
        "# you will be implementing logistic regression for sentiment analysis on tweets.\n",
        "# Given a tweet, you will decide if it has a positive sentiment or a negative one\n",
        "\n",
        "#step:\n",
        "#Learn how to extract features for logistic regression given some text\n",
        "#Implement logistic regression from scratch\n",
        "#Apply logistic regression on a natural language processing task\n",
        "#Test using your logistic regression\n",
        "#Perform error analysis"
      ]
    },
    {
      "cell_type": "code",
      "source": [
        "import nltk\n",
        "nltk.download('twitter_samples')\n",
        "from nltk.corpus import twitter_samples"
      ],
      "metadata": {
        "id": "qwSND26OwEjZ"
      },
      "execution_count": null,
      "outputs": []
    },
    {
      "cell_type": "code",
      "source": [
        "\n",
        "all_positive_tweets = twitter_samples.strings('positive_tweets.json')\n",
        "all_negative_tweets = twitter_samples.strings('negative_tweets.json')\n",
        "\n",
        "data = all_positive_tweets +all_negative_tweets\n",
        "\n",
        "lable_positive = [1]* len(all_positive_tweets)\n",
        "lable_negative = [0]* len(all_negative_tweets)"
      ],
      "metadata": {
        "id": "DTUDJknKwio-"
      },
      "execution_count": null,
      "outputs": []
    },
    {
      "cell_type": "code",
      "source": [
        "#Train test split: 20% will be in the test set, and 80% in the training set.\n",
        "len_pos_data_train = int(len(all_positive_tweets)*0.8)\n",
        "len_neg_data_train = int(len(all_negative_tweets)*0.8)\n",
        "\n",
        "x_train = all_positive_tweets[0:len_pos_data_train] + all_negative_tweets[0:len_neg_data_train]\n",
        "x_test =  all_positive_tweets[len_pos_data_train:] + all_negative_tweets[len_neg_data_train:]\n",
        "\n",
        "lable_train = lable_positive[0:len_pos_data_train]+lable_negative[0:len_pos_data_train]\n",
        "lable_test =  lable_positive[len_pos_data_train:]+lable_negative[len_pos_data_train:]"
      ],
      "metadata": {
        "id": "_Ng9LAlKx_6B"
      },
      "execution_count": 22,
      "outputs": []
    },
    {
      "cell_type": "code",
      "source": [
        "#preprocessing twitter\n",
        "\n",
        "import re\n",
        "nltk.download('stopwords')\n",
        "from nltk.corpus import stopwords\n",
        "from nltk.tokenize import TweetTokenizer\n",
        "import string\n",
        "\n",
        "stopwords_english = stopwords.words('english')\n",
        "\n",
        "tokenizer = TweetTokenizer(preserve_case=False, strip_handles=True,\n",
        "                               reduce_len=True)\n",
        "\n",
        "#Stemming\n",
        "from nltk.stem import PorterStemmer\n",
        "\n",
        "# Instantiate stemming class\n",
        "stemmer = PorterStemmer()\n",
        "\n",
        "def preprocessing_twitter(text):\n",
        "  # remove old style retweet text \"RT\"\n",
        "  text = re.sub(r'^RT[\\s]+', '', text)\n",
        "\n",
        "  # remove hyperlinks\n",
        "  text = re.sub(r'https?://[^\\s\\n\\r]+', '', text)\n",
        "\n",
        "  # remove hashtags\n",
        "  # only removing the hash # sign from the word\n",
        "  text = re.sub(r'#', '', text)\n",
        "\n",
        "  # tokenize tweets\n",
        "  text_tokens = tokenizer.tokenize(text)\n",
        "\n",
        "  text_clean = []\n",
        "\n",
        "  for word in text_tokens: # Go through every word in your tokens list\n",
        "    if (word not in stopwords_english and  # remove stopwords\n",
        "        word not in string.punctuation):  # remove punctuation\n",
        "        text_clean.append(word)\n",
        "\n",
        "  text_stem = []\n",
        "\n",
        "  for word in text_clean:\n",
        "    stem_word = stemmer.stem(word)  # stemming word\n",
        "    text_stem.append(stem_word)  # append to the list\n",
        "\n"
      ],
      "metadata": {
        "id": "soaND04O-0Q9"
      },
      "execution_count": null,
      "outputs": []
    },
    {
      "cell_type": "code",
      "source": [
        "\n",
        "# this function will build a dictionary where we can lookup how many times a word appears in the lists of positive or negative tweets.\n",
        "\n",
        "def build_freqs(tweets, lables):\n",
        "\n",
        "  #   Input: tweets: a list of tweets && lables: an m x 1 array with the sentiment label of each tweet (either 0 or 1)\n",
        "  #   Output: freqs: a dictionary mapping each (word, lable) pair to its frequency\n",
        "\n",
        "  word_freq = {}\n",
        "\n",
        "  for index , tweet in enumerate(tweets):\n",
        "    process_tweet = preprocessing_twitter(tweet)\n",
        "    for token in process_tweet:\n",
        "      if (token,lables[index]) in word_freq:\n",
        "        word_freq[token,lables[index]] = word_freq[token,lables[index]]+1\n",
        "      else:\n",
        "        word_freq[token,lables[index]] = 1\n",
        "  return word_freq"
      ],
      "metadata": {
        "id": "rJ_52BuOIMl2"
      },
      "execution_count": null,
      "outputs": []
    },
    {
      "cell_type": "code",
      "source": [
        "#build_freqs(tweets, lables)"
      ],
      "metadata": {
        "id": "XCOsNl6P9Mhd"
      },
      "execution_count": null,
      "outputs": []
    }
  ]
}