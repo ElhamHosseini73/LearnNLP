{
  "nbformat": 4,
  "nbformat_minor": 0,
  "metadata": {
    "colab": {
      "provenance": [],
      "authorship_tag": "ABX9TyNMHXOoNfc6C6em7mSuEs8L",
      "include_colab_link": true
    },
    "kernelspec": {
      "name": "python3",
      "display_name": "Python 3"
    },
    "language_info": {
      "name": "python"
    }
  },
  "cells": [
    {
      "cell_type": "markdown",
      "metadata": {
        "id": "view-in-github",
        "colab_type": "text"
      },
      "source": [
        "<a href=\"https://colab.research.google.com/github/ElhamHosseini73/LearnNLP/blob/main/Logistic_Regression.ipynb\" target=\"_parent\"><img src=\"https://colab.research.google.com/assets/colab-badge.svg\" alt=\"Open In Colab\"/></a>"
      ]
    },
    {
      "cell_type": "code",
      "execution_count": 69,
      "metadata": {
        "id": "50bgDNAktFxo"
      },
      "outputs": [],
      "source": [
        "# you will be implementing logistic regression for sentiment analysis on tweets.\n",
        "# Given a tweet, you will decide if it has a positive sentiment or a negative one\n",
        "\n",
        "#step:\n",
        "#Learn how to extract features for logistic regression given some text\n",
        "#Implement logistic regression from scratch\n",
        "#Apply logistic regression on a natural language processing task\n",
        "#Test using your logistic regression\n",
        "#Perform error analysis"
      ]
    },
    {
      "cell_type": "code",
      "source": [
        "import nltk\n",
        "nltk.download('twitter_samples')\n",
        "from nltk.corpus import twitter_samples"
      ],
      "metadata": {
        "id": "qwSND26OwEjZ"
      },
      "execution_count": null,
      "outputs": []
    },
    {
      "cell_type": "code",
      "source": [
        "\n",
        "all_positive_tweets = twitter_samples.strings('positive_tweets.json')\n",
        "all_negative_tweets = twitter_samples.strings('negative_tweets.json')\n",
        "\n",
        "data = all_positive_tweets +all_negative_tweets\n",
        "\n",
        "lable_positive = [1]* len(all_positive_tweets)\n",
        "lable_negative = [0]* len(all_negative_tweets)\n",
        "\n",
        "lables = lable_positive + lable_negative"
      ],
      "metadata": {
        "id": "DTUDJknKwio-"
      },
      "execution_count": 71,
      "outputs": []
    },
    {
      "cell_type": "code",
      "source": [
        "#Train test split: 20% will be in the test set, and 80% in the training set.\n",
        "len_pos_data_train = int(len(all_positive_tweets)*0.8)\n",
        "len_neg_data_train = int(len(all_negative_tweets)*0.8)\n",
        "\n",
        "x_train = all_positive_tweets[0:len_pos_data_train] + all_negative_tweets[0:len_neg_data_train]\n",
        "x_test =  all_positive_tweets[len_pos_data_train:] + all_negative_tweets[len_neg_data_train:]\n",
        "\n",
        "lable_train = lable_positive[0:len_pos_data_train]+lable_negative[0:len_pos_data_train]\n",
        "lable_test =  lable_positive[len_pos_data_train:]+lable_negative[len_pos_data_train:]"
      ],
      "metadata": {
        "id": "_Ng9LAlKx_6B"
      },
      "execution_count": 72,
      "outputs": []
    },
    {
      "cell_type": "code",
      "source": [
        "#preprocessing twitter\n",
        "\n",
        "import re\n",
        "nltk.download('stopwords')\n",
        "from nltk.corpus import stopwords\n",
        "from nltk.tokenize import TweetTokenizer\n",
        "import string\n",
        "from nltk.stem import PorterStemmer\n",
        "\n",
        "stopwords_english = stopwords.words('english')\n",
        "\n",
        "tokenizer = TweetTokenizer(preserve_case=False, strip_handles=True,\n",
        "                               reduce_len=True)\n",
        "\n",
        "\n",
        "# Instantiate stemming class\n",
        "stemmer = PorterStemmer()\n",
        "\n",
        "def preprocessing_twitter(text):\n",
        "  # remove old style retweet text \"RT\"\n",
        "  text = re.sub(r'^RT[\\s]+', '', text)\n",
        "\n",
        "  # remove hyperlinks\n",
        "  text = re.sub(r'https?://[^\\s\\n\\r]+', '', text)\n",
        "\n",
        "  # remove hashtags\n",
        "  # only removing the hash # sign from the word\n",
        "  text = re.sub(r'#', '', text)\n",
        "\n",
        "  # tokenize tweets\n",
        "  text_tokens = tokenizer.tokenize(text)\n",
        "\n",
        "  text_clean = []\n",
        "\n",
        "  for word in text_tokens: # Go through every word in your tokens list\n",
        "    if (word not in stopwords_english and  # remove stopwords\n",
        "        word not in string.punctuation):  # remove punctuation\n",
        "        text_clean.append(word)\n",
        "\n",
        "  text_stem = []\n",
        "\n",
        "  for word in text_clean:\n",
        "    stem_word = stemmer.stem(word)  # stemming word\n",
        "    text_stem.append(stem_word)  # append to the list\n",
        "\n",
        "  return text_stem\n",
        "\n"
      ],
      "metadata": {
        "id": "soaND04O-0Q9"
      },
      "execution_count": null,
      "outputs": []
    },
    {
      "cell_type": "code",
      "source": [
        "\n",
        "# this function will build a dictionary where we can lookup how many times a word appears in the lists of positive or negative tweets.\n",
        "\n",
        "def build_freqs(tweets, lables):\n",
        "\n",
        "  #   Input: tweets: a list of tweets && lables: an m x 1 array with the sentiment label of each tweet (either 0 or 1)\n",
        "  #   Output: freqs: a dictionary mapping each (word, lable) pair to its frequency\n",
        "\n",
        "  word_freq = {}\n",
        "\n",
        "  for index , tweet in enumerate(tweets):\n",
        "    process_tweet = preprocessing_twitter(tweet)\n",
        "\n",
        "    for token in process_tweet:\n",
        "\n",
        "      if (token,lables[index]) in word_freq:\n",
        "        word_freq[token,lables[index]] = word_freq[token,lables[index]]+1\n",
        "      else:\n",
        "        word_freq[token,lables[index]] = 1\n",
        "\n",
        "  return word_freq"
      ],
      "metadata": {
        "id": "rJ_52BuOIMl2"
      },
      "execution_count": 74,
      "outputs": []
    },
    {
      "cell_type": "code",
      "source": [
        "word_freq = build_freqs(data,lables)"
      ],
      "metadata": {
        "id": "XCOsNl6P9Mhd"
      },
      "execution_count": 75,
      "outputs": []
    },
    {
      "cell_type": "code",
      "source": [
        "import numpy as np\n",
        "\n",
        "#Extracting the features\n",
        "#The first feature is the number of positive words in a tweet.\n",
        "#The second feature is the number of negative words in a tweet.\n",
        "#Then train your logistic regression classifier on these features.\n",
        "\n",
        "def extract_feature(data):\n",
        "\n",
        "  feature_extraction = np.zeros((len(data),3))\n",
        "\n",
        "  for index ,text in enumerate(data) :\n",
        "    rocess_tweet = preprocessing_twitter(text)\n",
        "\n",
        "    #Delete the duplicate item in the list\n",
        "    punique_list = list(set(rocess_tweet))\n",
        "\n",
        "    sum_positive = 0\n",
        "    sum_negetive = 0\n",
        "\n",
        "    for word in punique_list:\n",
        "      if (word,1) in word_freq:\n",
        "        sum_positive = sum_positive+word_freq[(word,1)]\n",
        "      if (word,0) in word_freq:\n",
        "        sum_negetive = sum_negetive+word_freq[(word,0)]\n",
        "\n",
        "    feature_extraction[index,:] = [1,sum_positive,sum_negetive]\n",
        "\n",
        "  return feature_extraction\n",
        "\n",
        "\n"
      ],
      "metadata": {
        "id": "mSlERU0N5bHJ"
      },
      "execution_count": 76,
      "outputs": []
    },
    {
      "cell_type": "code",
      "source": [
        "X=extract_feature(data)\n",
        "print(X)"
      ],
      "metadata": {
        "id": "TZluApD-HiyC",
        "outputId": "975ff7d1-7b52-411f-f323-cd26c9f7f337",
        "colab": {
          "base_uri": "https://localhost:8080/"
        }
      },
      "execution_count": 77,
      "outputs": [
        {
          "output_type": "stream",
          "name": "stdout",
          "text": [
            "[[1.000e+00 3.887e+03 7.200e+01]\n",
            " [1.000e+00 4.613e+03 5.180e+02]\n",
            " [1.000e+00 3.883e+03 1.610e+02]\n",
            " ...\n",
            " [1.000e+00 3.400e+01 4.653e+03]\n",
            " [1.000e+00 1.000e+01 4.598e+03]\n",
            " [1.000e+00 1.160e+02 5.900e+02]]\n"
          ]
        }
      ]
    },
    {
      "cell_type": "code",
      "source": [
        "Xpositive= X[0:len(all_positive_tweets)]\n",
        "Xnegetive = X[len(all_positive_tweets):]\n",
        "\n",
        "Xtrain = np.concatenate(( Xpositive[0:int(len(Xpositive)*0.8)], Xnegetive[0:int(len(Xnegetive)*0.8)]))\n",
        "Xtest =  np.concatenate(( Xpositive[int(len(Xpositive)*0.8):], Xnegetive[int(len(Xpositive)*0.8):]))"
      ],
      "metadata": {
        "id": "5yQFUIC7t9fA"
      },
      "execution_count": 78,
      "outputs": []
    },
    {
      "cell_type": "code",
      "source": [
        "def sigmoid(Z):\n",
        "  result = 1/(1+ np.exp(-Z))\n",
        "  return result"
      ],
      "metadata": {
        "id": "XZ9Izoin26lz"
      },
      "execution_count": 79,
      "outputs": []
    },
    {
      "cell_type": "code",
      "source": [
        "def cost(h,y):\n",
        "\n",
        "  m = len(y)\n",
        "  y = np.array([y])\n",
        "\n",
        "  result_cost = -1/m*( np.dot(y,np.log(h)) +  np.dot((1-y),np.log(1-h)))\n",
        "\n",
        "  return result_cost\n",
        "\n"
      ],
      "metadata": {
        "id": "dOWUajCNKslD"
      },
      "execution_count": 103,
      "outputs": []
    },
    {
      "cell_type": "code",
      "source": [
        "def update_weight(X,Y,h,alpha,theta):\n",
        "  m = len(Y)\n",
        "  y = np.array([Y])\n",
        "\n",
        "  geradian = -alpha/m*(np.dot((h-y.T).T,X))\n",
        "  theta = theta - geradian\n",
        "\n",
        "  print(theta)\n",
        "  return 0"
      ],
      "metadata": {
        "id": "G1IpjiW1cymR"
      },
      "execution_count": 120,
      "outputs": []
    },
    {
      "cell_type": "code",
      "source": [
        "#train\n",
        "def train(X,Y,initial_theta,):\n",
        "\n",
        "  z = np.dot(X, initial_theta)\n",
        "\n",
        "  h = sigmoid(z)\n",
        "  result_cost = cost(h,Y)\n",
        "\n",
        "  update_weight(X,Y,h,1e-9,initial_theta)\n",
        "\n"
      ],
      "metadata": {
        "id": "uSf0UDlaxf_g"
      },
      "execution_count": 121,
      "outputs": []
    },
    {
      "cell_type": "code",
      "source": [
        "train(Xtrain,lable_train,np.zeros((3,1)))"
      ],
      "metadata": {
        "colab": {
          "base_uri": "https://localhost:8080/"
        },
        "id": "U575DlyryLV2",
        "outputId": "54ae6621-49cb-426a-ce27-5d4d36420fca"
      },
      "execution_count": 122,
      "outputs": [
        {
          "output_type": "stream",
          "name": "stdout",
          "text": [
            "[[ 0.00000000e+00 -7.37977500e-07  1.03907331e-06]\n",
            " [ 0.00000000e+00 -7.37977500e-07  1.03907331e-06]\n",
            " [ 0.00000000e+00 -7.37977500e-07  1.03907331e-06]]\n"
          ]
        }
      ]
    },
    {
      "cell_type": "code",
      "source": [
        "import numpy as np\n",
        "\n",
        "# Define two matrices\n",
        "A = np.array([[1, 2]])\n",
        "B = np.array([[5, 6], [7, 8]])\n",
        "\n",
        "print(A)\n",
        "# Calculate the dot product\n",
        "result = np.dot(A, B)\n",
        "\n",
        "print(result)\n"
      ],
      "metadata": {
        "id": "RMBG0PAk0O4N",
        "outputId": "6f0475ab-3eda-4c36-ad32-ea5ec1db13ee",
        "colab": {
          "base_uri": "https://localhost:8080/"
        }
      },
      "execution_count": null,
      "outputs": [
        {
          "output_type": "stream",
          "name": "stdout",
          "text": [
            "[[1 2]]\n",
            "[[19 22]]\n"
          ]
        }
      ]
    }
  ]
}