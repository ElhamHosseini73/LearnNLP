{
  "nbformat": 4,
  "nbformat_minor": 0,
  "metadata": {
    "colab": {
      "provenance": [],
      "authorship_tag": "ABX9TyOFT8TupHOX5XnqyMc5yIzg",
      "include_colab_link": true
    },
    "kernelspec": {
      "name": "python3",
      "display_name": "Python 3"
    },
    "language_info": {
      "name": "python"
    }
  },
  "cells": [
    {
      "cell_type": "markdown",
      "metadata": {
        "id": "view-in-github",
        "colab_type": "text"
      },
      "source": [
        "<a href=\"https://colab.research.google.com/github/ElhamHosseini73/LearnNLP/blob/main/word_frequencies.ipynb\" target=\"_parent\"><img src=\"https://colab.research.google.com/assets/colab-badge.svg\" alt=\"Open In Colab\"/></a>"
      ]
    },
    {
      "cell_type": "code",
      "source": [
        "#Data\n",
        "import nltk\n",
        "from nltk.corpus import twitter_samples\n",
        "\n",
        "import numpy as np\n",
        "\n",
        "\n",
        "nltk.download('twitter_samples')\n",
        "\n",
        "all_positive_twitt = twitter_samples.strings('positive_tweets.json')\n",
        "all_negetive_twitt = twitter_samples.strings('negative_tweets.json')\n",
        "\n",
        "all_twitt = all_positive_twitt + all_negetive_twitt\n",
        "\n",
        "lables = np.append(np.ones(len(all_positive_twitt)), np.zeros(len(all_negetive_twitt)))\n",
        "\n",
        "print(type(lables))"
      ],
      "metadata": {
        "id": "01gkdgTlHTP8",
        "outputId": "c912ff3b-9728-40af-ab83-91e9e2c1d3c4",
        "colab": {
          "base_uri": "https://localhost:8080/"
        }
      },
      "execution_count": 16,
      "outputs": [
        {
          "output_type": "stream",
          "name": "stderr",
          "text": [
            "[nltk_data] Downloading package twitter_samples to /root/nltk_data...\n",
            "[nltk_data]   Package twitter_samples is already up-to-date!\n"
          ]
        },
        {
          "output_type": "stream",
          "name": "stdout",
          "text": [
            "<class 'numpy.ndarray'>\n"
          ]
        }
      ]
    },
    {
      "cell_type": "code",
      "execution_count": 8,
      "metadata": {
        "id": "b4INfl3ayy5Z"
      },
      "outputs": [],
      "source": [
        "# this function will build a dictionary where we can lookup how many times a word appears in the lists of positive or negative tweets.\n",
        "\n",
        "def build_freqs(tweets, lables):\n",
        "\n",
        "  #   Input: tweets: a list of tweets && lables: an m x 1 array with the sentiment label of each tweet (either 0 or 1)\n",
        "  pass"
      ]
    },
    {
      "cell_type": "code",
      "source": [],
      "metadata": {
        "id": "mJE246TsOhSm"
      },
      "execution_count": 16,
      "outputs": []
    }
  ]
}