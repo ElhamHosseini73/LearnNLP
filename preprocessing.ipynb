{
  "nbformat": 4,
  "nbformat_minor": 0,
  "metadata": {
    "colab": {
      "provenance": [],
      "authorship_tag": "ABX9TyMi1zHm30l7Gs5hwFt4tVNy",
      "include_colab_link": true
    },
    "kernelspec": {
      "name": "python3",
      "display_name": "Python 3"
    },
    "language_info": {
      "name": "python"
    }
  },
  "cells": [
    {
      "cell_type": "markdown",
      "metadata": {
        "id": "view-in-github",
        "colab_type": "text"
      },
      "source": [
        "<a href=\"https://colab.research.google.com/github/ElhamHosseini73/LearnNLP/blob/main/preprocessing.ipynb\" target=\"_parent\"><img src=\"https://colab.research.google.com/assets/colab-badge.svg\" alt=\"Open In Colab\"/></a>"
      ]
    },
    {
      "cell_type": "code",
      "source": [
        "# For NLP, the preprocessing steps are:\n",
        "# Removing stop words and punctuation\n",
        "# Tokenizing the string\n",
        "# Lowercasing\n",
        "# Stemming"
      ],
      "metadata": {
        "id": "amKSNJIvei-f"
      },
      "execution_count": null,
      "outputs": []
    },
    {
      "cell_type": "code",
      "source": [
        "# Natural Language Toolkit (NLTK) package, an open-source Python library for natural language processing\n",
        "import nltk\n",
        "nltk.download('stopwords')"
      ],
      "metadata": {
        "id": "N3TKal6Friri"
      },
      "execution_count": null,
      "outputs": []
    },
    {
      "cell_type": "code",
      "source": [
        "text = 'hi elham. does she love you? She gives you flowers'"
      ],
      "metadata": {
        "id": "ZIGRygsEhaNv"
      },
      "execution_count": 2,
      "outputs": []
    },
    {
      "cell_type": "code",
      "source": [
        "#Remove hyperlinks, Twitter marks and styles\n",
        "\n",
        "import re\n",
        "from nltk.corpus import stopwords\n",
        "import nltk\n",
        "\n",
        "# remove old style retweet text \"RT\"\n",
        "text = re.sub(r'^RT[\\s]+', '', text)\n",
        "\n",
        "# remove hyperlinks\n",
        "text = re.sub(r'https?://[^\\s\\n\\r]+', '', text)\n",
        "\n",
        "# remove hashtags\n",
        "# only removing the hash # sign from the word\n",
        "text = re.sub(r'#', '', text)\n",
        "\n",
        "stopwords_english = stopwords.words('english')"
      ],
      "metadata": {
        "id": "0itVeC8chh1S"
      },
      "execution_count": 11,
      "outputs": []
    },
    {
      "cell_type": "code",
      "source": [
        "# Tokenize the string\n",
        "\n",
        "from nltk.tokenize import TweetTokenizer\n",
        "\n",
        "# instantiate tokenizer class\n",
        "tokenizer = TweetTokenizer(preserve_case=False, strip_handles=True,\n",
        "                               reduce_len=True)\n",
        "\n",
        "# tokenize tweets\n",
        "text_tokens = tokenizer.tokenize(text)\n",
        "print(text_tokens)"
      ],
      "metadata": {
        "id": "VSENm2aPij_7"
      },
      "execution_count": null,
      "outputs": []
    },
    {
      "cell_type": "code",
      "source": [
        "# Removing stop words and punctuation\n",
        "\n",
        "import string\n",
        "import nltk\n",
        "from nltk.corpus import stopwords\n",
        "\n",
        "# download the stopwords from NLTK\n",
        "nltk.download('stopwords')\n",
        "\n",
        "#Import the english stop words list from NLTK\n",
        "stopwords_english = stopwords.words('english')\n",
        "\n",
        "text_clean = []\n",
        "\n",
        "for word in text_tokens: # Go through every word in your tokens list\n",
        "    if (word not in stopwords_english and  # remove stopwords\n",
        "        word not in string.punctuation):  # remove punctuation\n",
        "        text_clean.append(word)\n",
        "\n",
        "print(text_clean)"
      ],
      "metadata": {
        "id": "L2Bzxpb1jvEH"
      },
      "execution_count": null,
      "outputs": []
    },
    {
      "cell_type": "code",
      "source": [
        "#Stemming\n",
        "from nltk.stem import PorterStemmer\n",
        "\n",
        "# Instantiate stemming class\n",
        "stemmer = PorterStemmer()\n",
        "\n",
        "# Create an empty list to store the stems\n",
        "text_stem = []\n",
        "\n",
        "for word in text_clean:\n",
        "    stem_word = stemmer.stem(word)  # stemming word\n",
        "    text_stem.append(stem_word)  # append to the list\n",
        "\n",
        "print(text_stem)"
      ],
      "metadata": {
        "id": "UkG59-qApAXr"
      },
      "execution_count": null,
      "outputs": []
    }
  ]
}