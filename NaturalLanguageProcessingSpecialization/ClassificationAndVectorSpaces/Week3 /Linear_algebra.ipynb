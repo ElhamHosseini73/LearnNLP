{
  "nbformat": 4,
  "nbformat_minor": 0,
  "metadata": {
    "colab": {
      "provenance": [],
      "authorship_tag": "ABX9TyNA/ePRjjnSt81QuHnsikXI",
      "include_colab_link": true
    },
    "kernelspec": {
      "name": "python3",
      "display_name": "Python 3"
    },
    "language_info": {
      "name": "python"
    }
  },
  "cells": [
    {
      "cell_type": "markdown",
      "metadata": {
        "id": "view-in-github",
        "colab_type": "text"
      },
      "source": [
        "<a href=\"https://colab.research.google.com/github/ElhamHosseini73/LearnNLP/blob/master/NaturalLanguageProcessingSpecialization/ClassificationAndVectorSpaces/Week3%20/Linear_algebra.ipynb\" target=\"_parent\"><img src=\"https://colab.research.google.com/assets/colab-badge.svg\" alt=\"Open In Colab\"/></a>"
      ]
    },
    {
      "cell_type": "code",
      "execution_count": 1,
      "metadata": {
        "id": "XjBGNnUC22sh"
      },
      "outputs": [],
      "source": [
        "import numpy as np"
      ]
    },
    {
      "cell_type": "code",
      "source": [
        "tem_list = [1,2,3,4]\n",
        "temp_array = np.array([1,2,3,4])\n",
        "\n",
        "print(tem_list)\n",
        "print(temp_array)"
      ],
      "metadata": {
        "id": "ZE9pRWHk57MB"
      },
      "execution_count": null,
      "outputs": []
    },
    {
      "cell_type": "code",
      "source": [
        "#operation add\n",
        "\n",
        "list_plus = tem_list + tem_list\n",
        "array_plus = temp_array + temp_array\n",
        "\n",
        "print(list_plus)\n",
        "print(array_plus)"
      ],
      "metadata": {
        "id": "cCUN3hVf7sah"
      },
      "execution_count": null,
      "outputs": []
    },
    {
      "cell_type": "code",
      "source": [
        "# the product operator *\n",
        "\n",
        "list_product = tem_list*3\n",
        "array_product = temp_array*3\n",
        "\n",
        "print(list_product)\n",
        "print(array_product)"
      ],
      "metadata": {
        "id": "GzsDjnDt8dVN"
      },
      "execution_count": null,
      "outputs": []
    },
    {
      "cell_type": "code",
      "source": [
        "#Create Matrix or Array of Arrays\n",
        "\n",
        "Matrix_one = np.array([tem_list,tem_list,tem_list])\n",
        "Matrix_two = np.array([temp_array,temp_array,temp_array])\n",
        "Matrix_three = np.array([temp_array,tem_list,temp_array])\n",
        "Matrix_four = np.array([temp_array,tem_list,[1,2,3,4]])\n",
        "\n",
        "print(Matrix_one)\n",
        "print(Matrix_two)\n",
        "print(Matrix_three)\n",
        "print(Matrix_four)"
      ],
      "metadata": {
        "id": "swI60t019drF"
      },
      "execution_count": null,
      "outputs": []
    },
    {
      "cell_type": "code",
      "source": [
        "#operation in matrix\n",
        "\n",
        "add_matrix = Matrix_one + Matrix_one\n",
        "power_matrix = Matrix_two*3\n",
        "\n",
        "#product operation\n",
        "product_matrix = Matrix_one* Matrix_one\n",
        "\n",
        "print(add_matrix)\n",
        "print(power_matrix)\n",
        "print(product_matrix)"
      ],
      "metadata": {
        "id": "RtipCvbWAsdV"
      },
      "execution_count": null,
      "outputs": []
    },
    {
      "cell_type": "code",
      "source": [
        "#Transpose a matrix\n",
        "\n",
        "Transpose_matrix = Matrix_one.T\n",
        "\n",
        "print(Transpose_matrix)"
      ],
      "metadata": {
        "id": "OrZywU5xBXKd"
      },
      "execution_count": null,
      "outputs": []
    },
    {
      "cell_type": "code",
      "source": [
        "#note that the transpose operation does not affect 1D arrays. BUT ...\n",
        "\n",
        "nparray = np.array([1, 2, 3, 4]) # Define an array\n",
        "\n",
        "print(nparray.T)\n",
        "\n",
        "#BUT you can do it\n",
        "\n",
        "matrix = np.array([[1, 2, 3, 4]])\n",
        "print(matrix.T)"
      ],
      "metadata": {
        "id": "oSRxFtpKDTfV"
      },
      "execution_count": null,
      "outputs": []
    },
    {
      "cell_type": "code",
      "source": [
        "#Sums\n",
        "\n",
        "#axis=0 means get the norm of each column\n",
        "#axis=1 means get the norm of each row.\n",
        "\n",
        "sum_matrix = np.sum(Matrix_one)\n",
        "sum_matrix_row = np.sum(Matrix_one,axis=1)\n",
        "sum_matrix_colomn = np.sum(Matrix_one,axis=0)\n",
        "\n",
        "print(sum_matrix)\n",
        "print(sum_matrix_row)\n",
        "print(sum_matrix_colomn)"
      ],
      "metadata": {
        "id": "RHWBZ3pzw0LU"
      },
      "execution_count": null,
      "outputs": []
    },
    {
      "cell_type": "code",
      "source": [
        "#mean\n",
        "\n",
        "#axis=0 means get the norm of each column\n",
        "#axis=1 means get the norm of each row.\n",
        "\n",
        "mean_matrix = np.mean(Matrix_one)\n",
        "mean_matrix_row = np.mean(Matrix_one,axis=1)\n",
        "mean_matrix_colomn = np.mean(Matrix_one,axis=0)\n",
        "\n",
        "print(Matrix_one)\n",
        "print(mean_matrix)\n",
        "print(mean_matrix_row)\n",
        "print(mean_matrix_colomn)"
      ],
      "metadata": {
        "id": "P89PkwA3x38X"
      },
      "execution_count": null,
      "outputs": []
    },
    {
      "cell_type": "code",
      "source": [
        "#norm of a nparray or matrix\n",
        "norm2 = np.linalg.norm(Matrix_one)\n",
        "\n",
        "print(Matrix_one)\n",
        "print(norm2)"
      ],
      "metadata": {
        "id": "9S_quR7jECSs"
      },
      "execution_count": null,
      "outputs": []
    },
    {
      "cell_type": "code",
      "source": [
        "#Note that without any other parameter, the norm function treats the matrix as being just an array of numbers\n",
        "\n",
        "#axis=0 means get the norm of each column\n",
        "#axis=1 means get the norm of each row.\n",
        "\n",
        "norm2_colomn = np.linalg.norm(Matrix_one, axis=0)\n",
        "norm2_row = np.linalg.norm(Matrix_one, axis=1)\n",
        "\n",
        "print(norm2_colomn)\n",
        "print(norm2_row)"
      ],
      "metadata": {
        "id": "dz4vtZyZrOmd"
      },
      "execution_count": null,
      "outputs": []
    },
    {
      "cell_type": "code",
      "source": [
        "#dot product\n",
        "flavor1 = np.dot(np.array([0, 1, 2, 3]), np.array([0, 1, 2, 3]))\n",
        "\n",
        "print(flavor1)"
      ],
      "metadata": {
        "id": "Dn3HIamdtK8-"
      },
      "execution_count": null,
      "outputs": []
    },
    {
      "cell_type": "code",
      "source": [
        "# Center the columns of a matrix\n",
        "# Centering a matrix means to remove the column mean to each element inside the column.\n",
        "\n",
        "#point: The sum by columns of a centered matrix is always 0.\n",
        "nparray2 = np.array([[1, 1], [2, 2], [3, 3]]) # Define a 3 x 2 matrix.\n",
        "\n",
        "nparrayCentered = nparray2 - np.mean(nparray2, axis=0) # Remove the mean for each column\n",
        "\n",
        "print('Original matrix')\n",
        "print(nparray2)\n",
        "print('Centered by columns matrix')\n",
        "print(nparrayCentered)\n",
        "\n",
        "print('New mean by column')\n",
        "print(nparrayCentered.mean(axis=0))"
      ],
      "metadata": {
        "id": "xHiU89mkycts"
      },
      "execution_count": null,
      "outputs": []
    },
    {
      "cell_type": "code",
      "source": [
        "#Warning: This process does not apply for row centering. In such cases, consider transposing the matrix, centering by columns, and then transpose back the result.\n",
        "\n",
        "nparray2 = np.array([[1, 3], [2, 4], [3, 5]]) # Define a 3 x 2 matrix.\n",
        "\n",
        "nparrayCentered = nparray2.T - np.mean(nparray2, axis=1) # Remove the mean for each row\n",
        "nparrayCentered = nparrayCentered.T # Transpose back the result\n",
        "\n",
        "print('Original matrix')\n",
        "print(nparray2)\n",
        "print('Centered by columns matrix')\n",
        "print(nparrayCentered)\n",
        "\n",
        "print('New mean by rows')\n",
        "print(nparrayCentered.mean(axis=1))"
      ],
      "metadata": {
        "id": "h2yuvD6R2QPt"
      },
      "execution_count": null,
      "outputs": []
    }
  ]
}