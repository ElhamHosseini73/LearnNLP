{
  "nbformat": 4,
  "nbformat_minor": 0,
  "metadata": {
    "colab": {
      "provenance": [],
      "authorship_tag": "ABX9TyN3OZWVaNenYu5A2mSrxldF",
      "include_colab_link": true
    },
    "kernelspec": {
      "name": "python3",
      "display_name": "Python 3"
    },
    "language_info": {
      "name": "python"
    }
  },
  "cells": [
    {
      "cell_type": "markdown",
      "metadata": {
        "id": "view-in-github",
        "colab_type": "text"
      },
      "source": [
        "<a href=\"https://colab.research.google.com/github/ElhamHosseini73/LearnNLP/blob/master/NaturalLanguageProcessingSpecialization/ClassificationAndVectorSpaces/Week3%20/Linear_algebra.ipynb\" target=\"_parent\"><img src=\"https://colab.research.google.com/assets/colab-badge.svg\" alt=\"Open In Colab\"/></a>"
      ]
    },
    {
      "cell_type": "code",
      "execution_count": null,
      "metadata": {
        "id": "XjBGNnUC22sh"
      },
      "outputs": [],
      "source": [
        "import numpy as np"
      ]
    },
    {
      "cell_type": "code",
      "source": [
        "tem_list = [1,2,3,4]\n",
        "temp_array = np.array([1,2,3,4])\n",
        "\n",
        "print(tem_list)\n",
        "print(temp_array)"
      ],
      "metadata": {
        "id": "ZE9pRWHk57MB"
      },
      "execution_count": null,
      "outputs": []
    },
    {
      "cell_type": "code",
      "source": [
        "#operation add\n",
        "\n",
        "list_plus = tem_list + tem_list\n",
        "array_plus = temp_array + temp_array\n",
        "\n",
        "print(list_plus)\n",
        "print(array_plus)"
      ],
      "metadata": {
        "id": "cCUN3hVf7sah"
      },
      "execution_count": null,
      "outputs": []
    },
    {
      "cell_type": "code",
      "source": [
        "# the product operator *\n",
        "\n",
        "list_product = tem_list*3\n",
        "array_product = temp_array*3\n",
        "\n",
        "print(list_product)\n",
        "print(array_product)"
      ],
      "metadata": {
        "id": "GzsDjnDt8dVN"
      },
      "execution_count": null,
      "outputs": []
    }
  ]
}