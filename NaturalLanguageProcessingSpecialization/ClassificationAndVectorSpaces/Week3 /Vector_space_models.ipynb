{
  "nbformat": 4,
  "nbformat_minor": 0,
  "metadata": {
    "colab": {
      "provenance": [],
      "include_colab_link": true
    },
    "kernelspec": {
      "name": "python3",
      "display_name": "Python 3"
    },
    "language_info": {
      "name": "python"
    }
  },
  "cells": [
    {
      "cell_type": "markdown",
      "metadata": {
        "id": "view-in-github",
        "colab_type": "text"
      },
      "source": [
        "<a href=\"https://colab.research.google.com/github/ElhamHosseini73/LearnNLP/blob/master/NaturalLanguageProcessingSpecialization/ClassificationAndVectorSpaces/Week3%20/Vector_space_models.ipynb\" target=\"_parent\"><img src=\"https://colab.research.google.com/assets/colab-badge.svg\" alt=\"Open In Colab\"/></a>"
      ]
    },
    {
      "cell_type": "code",
      "source": [
        "#embedding\n",
        "!pip install -U sentence-transformers"
      ],
      "metadata": {
        "id": "Mrubxah73PMi"
      },
      "execution_count": null,
      "outputs": []
    },
    {
      "cell_type": "code",
      "source": [
        "import pandas as pd\n",
        "import numpy as np\n",
        "import nltk\n",
        "from nltk.stem import PorterStemmer\n",
        "from sentence_transformers import SentenceTransformer"
      ],
      "metadata": {
        "id": "J48exeZZLSys"
      },
      "execution_count": null,
      "outputs": []
    },
    {
      "cell_type": "code",
      "source": [
        "# Instantiate stemming class\n",
        "stemmer = PorterStemmer()\n",
        "\n",
        "def stemming_word(word):\n",
        "    stem_word = stemmer.stem(word)  # stemming word\n",
        "    return stem_word"
      ],
      "metadata": {
        "id": "hneS_TFa2Hz6"
      },
      "execution_count": 3,
      "outputs": []
    },
    {
      "cell_type": "code",
      "source": [
        "#load model\n",
        "model = SentenceTransformer('sentence-transformers/LaBSE')\n",
        "\n",
        "def create_embed(text):\n",
        "  embeddings  = model.encode(text)\n",
        "  return embeddings"
      ],
      "metadata": {
        "id": "6d7OPkTu2bcG"
      },
      "execution_count": null,
      "outputs": []
    },
    {
      "cell_type": "code",
      "source": [
        "# Implement a function cosine distance.\n",
        "def cosine_simillarity(embed1,embed2):\n",
        "  dot_product = np.dot(embed1,embed2)\n",
        "  norm1 = np.linalg.norm(embed1)\n",
        "  norm2 = np.linalg.norm(embed2)\n",
        "\n",
        "  cosine_simillarity = dot_product/(norm1*norm2)\n",
        "  return cosine_simillarity"
      ],
      "metadata": {
        "id": "e5ZusAoNzX5e"
      },
      "execution_count": 5,
      "outputs": []
    },
    {
      "cell_type": "code",
      "source": [
        "# Implement a function Euclidean distance.\n",
        "def euclidean_distance(embed1,embed2):\n",
        "  temp = embed1 - embed2\n",
        "  result = np.linalg.norm(temp)\n",
        "\n",
        "  return result"
      ],
      "metadata": {
        "id": "QomXoxNC7SDc"
      },
      "execution_count": 6,
      "outputs": []
    },
    {
      "cell_type": "code",
      "source": [
        "#inferense\n",
        "word1 = 'king'\n",
        "word2 = 'queen'\n",
        "\n",
        "stem_word1 = stemming_word(word1)\n",
        "stem_word2 = stemming_word(word2)\n",
        "\n",
        "embed_word1 = create_embed(stem_word1)\n",
        "embed_word2 = create_embed(stem_word2)\n",
        "\n",
        "cosin_result = cosine_simillarity(embed_word1,embed_word2)\n",
        "\n",
        "euclidean_result = euclidean_distance(embed_word1,embed_word2)\n",
        "\n",
        "print(cosin_result)\n",
        "print(euclidean_result)"
      ],
      "metadata": {
        "id": "6P8_wt915WWC"
      },
      "execution_count": null,
      "outputs": []
    },
    {
      "cell_type": "code",
      "source": [
        "#pcd\n",
        "\n",
        "data = [\"hello\",\"king\",\"contry\",\"queue\",\"teature\"]\n",
        "column = []\n",
        "[\"q\",\"\"]\n",
        "\n",
        "for index in range(768):\n",
        "  column.append(index+1)\n",
        "\n",
        "for word in data:\n",
        "  stem = stemming_word(word)\n",
        "  embed =create_embed(stem)\n",
        "\n",
        "\n",
        "pd.DataFrame()"
      ],
      "metadata": {
        "id": "AFPAChUmSeQg"
      },
      "execution_count": null,
      "outputs": []
    },
    {
      "cell_type": "code",
      "source": [
        "print(column)"
      ],
      "metadata": {
        "id": "PoIdvakEPbPL"
      },
      "execution_count": null,
      "outputs": []
    }
  ]
}