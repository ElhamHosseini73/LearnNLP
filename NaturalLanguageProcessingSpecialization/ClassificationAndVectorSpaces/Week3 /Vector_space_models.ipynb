{
  "nbformat": 4,
  "nbformat_minor": 0,
  "metadata": {
    "colab": {
      "provenance": [],
      "include_colab_link": true
    },
    "kernelspec": {
      "name": "python3",
      "display_name": "Python 3"
    },
    "language_info": {
      "name": "python"
    }
  },
  "cells": [
    {
      "cell_type": "markdown",
      "metadata": {
        "id": "view-in-github",
        "colab_type": "text"
      },
      "source": [
        "<a href=\"https://colab.research.google.com/github/ElhamHosseini73/LearnNLP/blob/master/NaturalLanguageProcessingSpecialization/ClassificationAndVectorSpaces/Week3%20/Vector_space_models.ipynb\" target=\"_parent\"><img src=\"https://colab.research.google.com/assets/colab-badge.svg\" alt=\"Open In Colab\"/></a>"
      ]
    },
    {
      "cell_type": "code",
      "source": [
        "#embedding\n",
        "!pip install -U sentence-transformers"
      ],
      "metadata": {
        "id": "Mrubxah73PMi"
      },
      "execution_count": null,
      "outputs": []
    },
    {
      "cell_type": "code",
      "source": [
        "import pandas as pd\n",
        "import numpy as np\n",
        "import nltk\n",
        "from nltk.stem import PorterStemmer\n",
        "from sentence_transformers import SentenceTransformer"
      ],
      "metadata": {
        "id": "J48exeZZLSys"
      },
      "execution_count": null,
      "outputs": []
    },
    {
      "cell_type": "code",
      "source": [
        "# Instantiate stemming class\n",
        "stemmer = PorterStemmer()\n",
        "\n",
        "def stemming_word(word):\n",
        "    stem_word = stemmer.stem(word)  # stemming word\n",
        "    return stem_word"
      ],
      "metadata": {
        "id": "hneS_TFa2Hz6"
      },
      "execution_count": 3,
      "outputs": []
    },
    {
      "cell_type": "code",
      "source": [
        "#load model\n",
        "model = SentenceTransformer('sentence-transformers/LaBSE')\n",
        "\n",
        "def create_embed(text):\n",
        "  embeddings  = model.encode(text)\n",
        "  return embeddings"
      ],
      "metadata": {
        "id": "6d7OPkTu2bcG"
      },
      "execution_count": null,
      "outputs": []
    },
    {
      "cell_type": "code",
      "source": [
        "# Implement a function cosine distance.\n",
        "def cosine_simillarity(embed1,embed2):\n",
        "  dot_product = np.dot(embed1,embed2)\n",
        "  norm1 = np.linalg.norm(embed1)\n",
        "  norm2 = np.linalg.norm(embed2)\n",
        "\n",
        "  cosine_simillarity = dot_product/(norm1*norm2)\n",
        "  return cosine_simillarity"
      ],
      "metadata": {
        "id": "e5ZusAoNzX5e"
      },
      "execution_count": 5,
      "outputs": []
    },
    {
      "cell_type": "code",
      "source": [
        "# Implement a function Euclidean distance.\n",
        "def euclidean_distance(embed1,embed2):\n",
        "  temp = embed1 - embed2\n",
        "  result = np.linalg.norm(temp)\n",
        "\n",
        "  return result"
      ],
      "metadata": {
        "id": "QomXoxNC7SDc"
      },
      "execution_count": 6,
      "outputs": []
    },
    {
      "cell_type": "code",
      "source": [
        "#inferense\n",
        "word1 = 'king'\n",
        "word2 = 'queen'\n",
        "\n",
        "stem_word1 = stemming_word(word1)\n",
        "stem_word2 = stemming_word(word2)\n",
        "\n",
        "embed_word1 = create_embed(stem_word1)\n",
        "embed_word2 = create_embed(stem_word2)\n",
        "\n",
        "cosin_result = cosine_simillarity(embed_word1,embed_word2)\n",
        "\n",
        "euclidean_result = euclidean_distance(embed_word1,embed_word2)\n",
        "\n",
        "print(cosin_result)\n",
        "print(euclidean_result)"
      ],
      "metadata": {
        "id": "6P8_wt915WWC"
      },
      "execution_count": null,
      "outputs": []
    },
    {
      "cell_type": "code",
      "source": [
        "#pcd\n",
        "\n",
        "data = [\"hello\",\"king\",\"contry\",\"queue\",\"teature\"]\n",
        "column = []\n",
        "data_embed = []\n",
        "\n",
        "\n",
        "for index in range(768):\n",
        "  column.append(index+1)\n",
        "\n",
        "for word in data:\n",
        "  stem = stemming_word(word)\n",
        "  embed =create_embed(stem)\n",
        "  data_embed.append(list(embed))\n",
        "\n",
        "\n",
        "print(data_embed[0])"
      ],
      "metadata": {
        "id": "AFPAChUmSeQg"
      },
      "execution_count": null,
      "outputs": []
    },
    {
      "cell_type": "code",
      "source": [
        "#The steps to compute PCA are as follows\n",
        "# step1: Mean normalize the data\n",
        "# Compute the covariance matrix of your data.\n",
        "# Compute the eigenvectors and the eigenvalues of your covariance matrix\n",
        "# Multiply the first K eigenvectors by your normalized data. The transformation should look something as follows:"
      ],
      "metadata": {
        "id": "UIetY1BvUIpY"
      },
      "execution_count": 9,
      "outputs": []
    },
    {
      "cell_type": "code",
      "source": [
        "# step1: Mean normalize the data\n",
        "\n",
        "import numpy as np\n",
        "all_data = np.matrix(data_embed)\n",
        "mean_data = np.mean(all_data, axis=0)\n",
        "normalize_data = all_data - mean_data"
      ],
      "metadata": {
        "id": "PoIdvakEPbPL"
      },
      "execution_count": 10,
      "outputs": []
    },
    {
      "cell_type": "code",
      "source": [
        "#step2: Compute the covariance matrix of your data.\n",
        "#If rowvar is True (default), then each row represents a variable, with observations in the columns. Otherwise, the relationship is transposed: each column represents a variable, while the rows contain observations.\n",
        "\n",
        "covariance = np.cov(normalize_data, rowvar=False)"
      ],
      "metadata": {
        "id": "_zLyCGo9dVuK"
      },
      "execution_count": 19,
      "outputs": []
    },
    {
      "cell_type": "code",
      "source": [
        "# finding eigenvalues (w) and eigenvectors (V)\n",
        "w, v = np.linalg.eig(covariance)"
      ],
      "metadata": {
        "id": "xm0MpXF-j5Fr"
      },
      "execution_count": 22,
      "outputs": []
    },
    {
      "cell_type": "code",
      "source": [
        "#numpy.argsort: Returns the indices that would sort eigenvalue in increasing order\n",
        "index = np.argsort(w)\n",
        "print(index)"
      ],
      "metadata": {
        "id": "ukwEGyQPqyAV"
      },
      "execution_count": null,
      "outputs": []
    },
    {
      "cell_type": "code",
      "source": [
        "a = np.matrix([[1,2,3],[4,5,6]])\n",
        "b = np.matrix([1,2,3])\n",
        "print(a-b)"
      ],
      "metadata": {
        "id": "0y7hexEtaUyi",
        "outputId": "a0a71e1f-37bf-425b-df4b-766c75432e6d",
        "colab": {
          "base_uri": "https://localhost:8080/"
        }
      },
      "execution_count": 12,
      "outputs": [
        {
          "output_type": "stream",
          "name": "stdout",
          "text": [
            "[[0 0 0]\n",
            " [3 3 3]]\n"
          ]
        }
      ]
    }
  ]
}