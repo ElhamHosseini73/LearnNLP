{
  "nbformat": 4,
  "nbformat_minor": 0,
  "metadata": {
    "colab": {
      "provenance": [],
      "authorship_tag": "ABX9TyOrOrNlgpuP2oeIwTbeD1M1",
      "include_colab_link": true
    },
    "kernelspec": {
      "name": "python3",
      "display_name": "Python 3"
    },
    "language_info": {
      "name": "python"
    }
  },
  "cells": [
    {
      "cell_type": "markdown",
      "metadata": {
        "id": "view-in-github",
        "colab_type": "text"
      },
      "source": [
        "<a href=\"https://colab.research.google.com/github/ElhamHosseini73/LearnNLP/blob/master/NaturalLanguageProcessingSpecialization/ClassificationAndVectorSpaces/Week3%20/Another_explanation_about_PCA.ipynb\" target=\"_parent\"><img src=\"https://colab.research.google.com/assets/colab-badge.svg\" alt=\"Open In Colab\"/></a>"
      ]
    },
    {
      "cell_type": "code",
      "source": [
        "import numpy as np\n",
        "import pandas as pd\n",
        "import matplotlib.pyplot as plt\n",
        "from sklearn.decomposition import PCA"
      ],
      "metadata": {
        "id": "ZeU9hmHuRYw7"
      },
      "execution_count": 1,
      "outputs": []
    },
    {
      "cell_type": "code",
      "execution_count": 2,
      "metadata": {
        "id": "3VoaeunyPWv3"
      },
      "outputs": [],
      "source": [
        "#there are random variables x, y that y = n * x so x and y is correlated together\n",
        "n = 1\n",
        "x = np.random.uniform(1,2,1000)\n",
        "y = x.copy() * n\n",
        "#now x and y are features"
      ]
    },
    {
      "cell_type": "code",
      "source": [
        "#firth step\n",
        "# PCA works better if the data is centered\n",
        "x = x - np.mean(x) # Center x. Remove its mean\n",
        "y = y - np.mean(y) # Center y. Remove its mean\n",
        "\n",
        "data = pd.DataFrame({'x': x, 'y': y})\n",
        "\n",
        "plt.scatter(data.x ,data.y)"
      ],
      "metadata": {
        "id": "lc63IldsSett",
        "outputId": "21382b8a-21bc-4b70-9c7a-97b6da39ea43",
        "colab": {
          "base_uri": "https://localhost:8080/",
          "height": 447
        }
      },
      "execution_count": 5,
      "outputs": [
        {
          "output_type": "execute_result",
          "data": {
            "text/plain": [
              "<matplotlib.collections.PathCollection at 0x7f2ea9f3a200>"
            ]
          },
          "metadata": {},
          "execution_count": 5
        },
        {
          "output_type": "display_data",
          "data": {
            "text/plain": [
              "<Figure size 640x480 with 1 Axes>"
            ],
            "image/png": "[encoded data removed]"
          },
          "metadata": {}
        }
      ]
    },
    {
      "cell_type": "code",
      "source": [
        "# Instantiate a PCA\n",
        "pca = PCA(n_components=2)\n",
        "\n",
        "# Create model for this data.\n",
        "train_data = pca.fit(data)\n",
        "\n",
        "#give Eigenvectors\n",
        "print(train_data.components_)\n",
        "\n",
        "#give Eigenvalues\n",
        "print(train_data.explained_variance_)\n"
      ],
      "metadata": {
        "id": "BP8l5HbzWGcA",
        "outputId": "12a72b32-0ce1-49fc-886d-71f48458a131",
        "colab": {
          "base_uri": "https://localhost:8080/"
        }
      },
      "execution_count": 6,
      "outputs": [
        {
          "output_type": "stream",
          "name": "stdout",
          "text": [
            "[[ 0.70710678  0.70710678]\n",
            " [ 0.70710678 -0.70710678]]\n",
            "[0.17050202 0.        ]\n"
          ]
        }
      ]
    }
  ]
}