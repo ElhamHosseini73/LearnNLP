{
  "nbformat": 4,
  "nbformat_minor": 0,
  "metadata": {
    "colab": {
      "provenance": [],
      "include_colab_link": true
    },
    "kernelspec": {
      "name": "python3",
      "display_name": "Python 3"
    },
    "language_info": {
      "name": "python"
    }
  },
  "cells": [
    {
      "cell_type": "markdown",
      "metadata": {
        "id": "view-in-github",
        "colab_type": "text"
      },
      "source": [
        "<a href=\"https://colab.research.google.com/github/ElhamHosseini73/LearnNLP/blob/master/NaturalLanguageProcessingSpecialization/ClassificationAndVectorSpaces/Week3%20/Another_explanation_about_PCA.ipynb\" target=\"_parent\"><img src=\"https://colab.research.google.com/assets/colab-badge.svg\" alt=\"Open In Colab\"/></a>"
      ]
    },
    {
      "cell_type": "code",
      "source": [
        "import numpy as np\n",
        "import pandas as pd\n",
        "import matplotlib.pyplot as plt\n",
        "from sklearn.decomposition import PCA"
      ],
      "metadata": {
        "id": "ZeU9hmHuRYw7"
      },
      "execution_count": 2,
      "outputs": []
    },
    {
      "cell_type": "code",
      "execution_count": 3,
      "metadata": {
        "id": "3VoaeunyPWv3"
      },
      "outputs": [],
      "source": [
        "#there are random variables x, y that y = n * x so x and y is correlated together\n",
        "n = 1\n",
        "x = np.random.uniform(1,2,1000)\n",
        "y = x.copy() * n\n",
        "#now x and y are features"
      ]
    },
    {
      "cell_type": "code",
      "source": [
        "#firth step\n",
        "# PCA works better if the data is centered\n",
        "x = x - np.mean(x) # Center x. Remove its mean\n",
        "y = y - np.mean(y) # Center y. Remove its mean\n",
        "\n",
        "#there are two features (x and y)\n",
        "data = pd.DataFrame({'x': x, 'y': y})\n",
        "\n",
        "plt.scatter(data.x ,data.y)"
      ],
      "metadata": {
        "id": "lc63IldsSett",
        "outputId": "c10b21a1-5f37-4ae7-e20a-c1caeffb2716",
        "colab": {
          "base_uri": "https://localhost:8080/",
          "height": 448
        }
      },
      "execution_count": 4,
      "outputs": [
        {
          "output_type": "execute_result",
          "data": {
            "text/plain": [
              "<matplotlib.collections.PathCollection at 0x7c362d4407f0>"
            ]
          },
          "metadata": {},
          "execution_count": 4
        },
        {
          "output_type": "display_data",
          "data": {
            "text/plain": [
              "<Figure size 640x480 with 1 Axes>"
            ],
            "image/png": "[encoded data removed]"
          },
          "metadata": {}
        }
      ]
    },
    {
      "cell_type": "code",
      "source": [
        "# Instantiate a PCA\n",
        "pca = PCA(n_components=2)\n",
        "\n",
        "# Create model for this data.\n",
        "train_data = pca.fit(data)\n",
        "\n",
        "#give Eigenvectors\n",
        "print(train_data.components_)\n",
        "\n",
        "#give Eigenvalues\n",
        "print(train_data.explained_variance_)\n",
        "\n",
        "#we know cos(45) is 0.7071 so The rotation matrix is equal to R = [cos(45) sin(45)\n",
        "#                                                                  -sin(45) cos(45)]\n",
        "\n"
      ],
      "metadata": {
        "id": "BP8l5HbzWGcA"
      },
      "execution_count": null,
      "outputs": []
    },
    {
      "cell_type": "code",
      "source": [
        "# Transform the data base on the rotation matrix of pcaTr\n",
        "new_data = train_data.transform(data)\n",
        "\n",
        "new_data"
      ],
      "metadata": {
        "colab": {
          "base_uri": "https://localhost:8080/"
        },
        "id": "RjeRdbJRoaHo",
        "outputId": "076b016a-b860-43e5-ae52-dca90d9cd2e8"
      },
      "execution_count": 7,
      "outputs": [
        {
          "output_type": "stream",
          "name": "stdout",
          "text": [
            "<class 'numpy.ndarray'>\n"
          ]
        }
      ]
    }
  ]
}