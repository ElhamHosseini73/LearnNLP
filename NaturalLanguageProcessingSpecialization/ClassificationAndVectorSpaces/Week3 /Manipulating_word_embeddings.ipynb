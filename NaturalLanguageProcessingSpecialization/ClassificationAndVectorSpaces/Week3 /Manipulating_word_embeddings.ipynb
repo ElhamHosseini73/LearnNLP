{
  "nbformat": 4,
  "nbformat_minor": 0,
  "metadata": {
    "colab": {
      "provenance": [],
      "authorship_tag": "ABX9TyMSJ0MPOrSzH0lEoGWLG+AQ",
      "include_colab_link": true
    },
    "kernelspec": {
      "name": "python3",
      "display_name": "Python 3"
    },
    "language_info": {
      "name": "python"
    }
  },
  "cells": [
    {
      "cell_type": "markdown",
      "metadata": {
        "id": "view-in-github",
        "colab_type": "text"
      },
      "source": [
        "<a href=\"https://colab.research.google.com/github/ElhamHosseini73/LearnNLP/blob/master/NaturalLanguageProcessingSpecialization/ClassificationAndVectorSpaces/Week3%20/Manipulating_word_embeddings.ipynb\" target=\"_parent\"><img src=\"https://colab.research.google.com/assets/colab-badge.svg\" alt=\"Open In Colab\"/></a>"
      ]
    },
    {
      "cell_type": "code",
      "source": [
        "#create word embedding for word\n",
        "#1. preprocess word(just )"
      ],
      "metadata": {
        "id": "C2KWv6hUWgDP"
      },
      "execution_count": null,
      "outputs": []
    },
    {
      "cell_type": "code",
      "source": [
        "#embedding\n",
        "!pip install -U sentence-transformers\n",
        "from sentence_transformers import SentenceTransformer\n",
        "\n",
        "#load model\n",
        "model = SentenceTransformer('sentence-transformers/LaBSE')"
      ],
      "metadata": {
        "id": "5Wcw42S8IIe6"
      },
      "execution_count": null,
      "outputs": []
    },
    {
      "cell_type": "code",
      "source": [
        "#inference\n",
        "def inference_bert(text):\n",
        "  embeddings = model.encode(text)"
      ],
      "metadata": {
        "id": "hqjEl4GuMHet"
      },
      "execution_count": 12,
      "outputs": []
    },
    {
      "cell_type": "code",
      "source": [
        "import numpy as np\n",
        "words = ['oil', 'gas', 'happy', 'sad', 'city', 'town', 'village', 'country', 'continent', 'petroleum', 'joyful']\n",
        "\n",
        "for word in words:\n",
        "  print(word)\n",
        "  embed_word = inference_bert(word)\n",
        "  print(type(embed_word))\n",
        "  print(embed_word)\n"
      ],
      "metadata": {
        "id": "8WNRvWdiNRto",
        "outputId": "4dd185cf-7836-4bc9-ddf1-cbd88ed65e5a",
        "colab": {
          "base_uri": "https://localhost:8080/"
        }
      },
      "execution_count": 24,
      "outputs": [
        {
          "output_type": "stream",
          "name": "stdout",
          "text": [
            "oil\n",
            "<class 'NoneType'>\n",
            "None\n",
            "gas\n",
            "<class 'NoneType'>\n",
            "None\n",
            "happy\n",
            "<class 'NoneType'>\n",
            "None\n",
            "sad\n",
            "<class 'NoneType'>\n",
            "None\n",
            "city\n",
            "<class 'NoneType'>\n",
            "None\n",
            "town\n",
            "<class 'NoneType'>\n",
            "None\n",
            "village\n",
            "<class 'NoneType'>\n",
            "None\n",
            "country\n",
            "<class 'NoneType'>\n",
            "None\n",
            "continent\n",
            "<class 'NoneType'>\n",
            "None\n",
            "petroleum\n",
            "<class 'NoneType'>\n",
            "None\n",
            "joyful\n",
            "<class 'NoneType'>\n",
            "None\n"
          ]
        }
      ]
    },
    {
      "cell_type": "code",
      "source": [
        "#It is important to note that we store each vector as a NumPy array. It allows us to use the linear algebra operations on it.\n",
        "a = [[1,2,3],[4,5,6]]\n",
        "\n",
        "x = np.matrix(a)\n",
        "\n",
        "\n",
        "print(x)"
      ],
      "metadata": {
        "id": "nxqc26XpNQRh",
        "outputId": "a84251f2-fbdb-45e3-9131-04fc9d71b668",
        "colab": {
          "base_uri": "https://localhost:8080/"
        }
      },
      "execution_count": 22,
      "outputs": [
        {
          "output_type": "stream",
          "name": "stdout",
          "text": [
            "[[1 2 3]\n",
            " [4 5 6]]\n"
          ]
        }
      ]
    }
  ]
}