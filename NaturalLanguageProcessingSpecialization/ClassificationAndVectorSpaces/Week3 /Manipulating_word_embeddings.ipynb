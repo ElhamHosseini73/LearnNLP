{
  "nbformat": 4,
  "nbformat_minor": 0,
  "metadata": {
    "colab": {
      "provenance": [],
      "authorship_tag": "ABX9TyNuDF7WOHNEAyFqsjazoCGg",
      "include_colab_link": true
    },
    "kernelspec": {
      "name": "python3",
      "display_name": "Python 3"
    },
    "language_info": {
      "name": "python"
    }
  },
  "cells": [
    {
      "cell_type": "markdown",
      "metadata": {
        "id": "view-in-github",
        "colab_type": "text"
      },
      "source": [
        "<a href=\"https://colab.research.google.com/github/ElhamHosseini73/LearnNLP/blob/master/NaturalLanguageProcessingSpecialization/ClassificationAndVectorSpaces/Week3%20/Manipulating_word_embeddings.ipynb\" target=\"_parent\"><img src=\"https://colab.research.google.com/assets/colab-badge.svg\" alt=\"Open In Colab\"/></a>"
      ]
    },
    {
      "cell_type": "code",
      "source": [
        "#create word embedding for word\n",
        "#1. preprocess word(just stemming )\n",
        "#2. embed with bert"
      ],
      "metadata": {
        "id": "C2KWv6hUWgDP"
      },
      "execution_count": 1,
      "outputs": []
    },
    {
      "cell_type": "code",
      "source": [
        "import nltk\n",
        "from nltk.stem import PorterStemmer\n",
        "\n",
        "# Instantiate stemming class\n",
        "stemmer = PorterStemmer()\n",
        "\n",
        "def stemming_word(word):\n",
        "    stem_word = stemmer.stem(word)  # stemming word\n",
        "    return stem_word\n"
      ],
      "metadata": {
        "id": "dbYv-s49L7B2"
      },
      "execution_count": 2,
      "outputs": []
    },
    {
      "cell_type": "code",
      "source": [
        "#embedding\n",
        "!pip install -U sentence-transformers\n",
        "from sentence_transformers import SentenceTransformer\n",
        "\n",
        "#load model\n",
        "model = SentenceTransformer('sentence-transformers/LaBSE')"
      ],
      "metadata": {
        "id": "5Wcw42S8IIe6"
      },
      "execution_count": null,
      "outputs": []
    },
    {
      "cell_type": "code",
      "source": [
        "#inference\n",
        "def inference_bert(text):\n",
        "  embeddings = model.encode(text)\n",
        "  return embeddings"
      ],
      "metadata": {
        "id": "hqjEl4GuMHet"
      },
      "execution_count": 4,
      "outputs": []
    },
    {
      "cell_type": "code",
      "source": [
        "import numpy as np\n",
        "words = ['oil', 'gas', 'happy', 'sad', 'city', 'town', 'village', 'country', 'continent', 'petroleum', 'joyful']\n",
        "\n",
        "embed_words = []\n",
        "for word in words:\n",
        "  stem_word = stemming_word(word)\n",
        "  embed_word = inference_bert(stem_word)\n",
        "  embed_words.append(embed_word)\n",
        "\n",
        "#It is important to note that we store each vector as a NumPy array. It allows us to use the linear algebra operations on it.\n",
        "embed_word_matrix = np.matrix(embed_words)"
      ],
      "metadata": {
        "id": "8WNRvWdiNRto"
      },
      "execution_count": 25,
      "outputs": []
    },
    {
      "cell_type": "code",
      "source": [
        "print(embed_word_matrix[0,0])"
      ],
      "metadata": {
        "id": "RHn4m7ZsaJZG",
        "outputId": "e3555371-52c3-46bc-c7fb-72ca0d8ec896",
        "colab": {
          "base_uri": "https://localhost:8080/"
        }
      },
      "execution_count": 45,
      "outputs": [
        {
          "output_type": "stream",
          "name": "stdout",
          "text": [
            "-0.052678168\n"
          ]
        }
      ]
    },
    {
      "cell_type": "code",
      "source": [
        "#plot\n",
        "import matplotlib.pyplot as plt # Import matplotlib\n",
        "\n",
        "fig, ax = plt.subplots(figsize = (10, 10)) # Create custom size image\n",
        "\n",
        "\n",
        "for index in range(len(words)):\n",
        "  embed_word_matrix[index]"
      ],
      "metadata": {
        "id": "nxqc26XpNQRh",
        "outputId": "fc95368f-b795-471d-ad15-f38357526c07",
        "colab": {
          "base_uri": "https://localhost:8080/",
          "height": 106
        }
      },
      "execution_count": 43,
      "outputs": [
        {
          "output_type": "error",
          "ename": "SyntaxError",
          "evalue": "invalid syntax (<ipython-input-43-43c2c2e0b0a1>, line 6)",
          "traceback": [
            "\u001b[0;36m  File \u001b[0;32m\"<ipython-input-43-43c2c2e0b0a1>\"\u001b[0;36m, line \u001b[0;32m6\u001b[0m\n\u001b[0;31m    print(embed_words[0][[0,:]])\u001b[0m\n\u001b[0m                            ^\u001b[0m\n\u001b[0;31mSyntaxError\u001b[0m\u001b[0;31m:\u001b[0m invalid syntax\n"
          ]
        }
      ]
    }
  ]
}