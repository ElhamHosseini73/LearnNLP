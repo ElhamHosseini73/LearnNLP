{
  "nbformat": 4,
  "nbformat_minor": 0,
  "metadata": {
    "colab": {
      "provenance": [],
      "authorship_tag": "ABX9TyNdbr6sYvOn0CQrc4Qq2IHQ",
      "include_colab_link": true
    },
    "kernelspec": {
      "name": "python3",
      "display_name": "Python 3"
    },
    "language_info": {
      "name": "python"
    }
  },
  "cells": [
    {
      "cell_type": "markdown",
      "metadata": {
        "id": "view-in-github",
        "colab_type": "text"
      },
      "source": [
        "<a href=\"https://colab.research.google.com/github/ElhamHosseini73/LearnNLP/blob/master/NaturalLanguageProcessingSpecialization/ClassificationAndVectorSpaces/Week2/Naive_Bayes.ipynb\" target=\"_parent\"><img src=\"https://colab.research.google.com/assets/colab-badge.svg\" alt=\"Open In Colab\"/></a>"
      ]
    },
    {
      "cell_type": "code",
      "execution_count": null,
      "metadata": {
        "id": "fculCWfN2h0g"
      },
      "outputs": [],
      "source": [
        "import nltk\n",
        "nltk.download('twitter_samples')\n",
        "from nltk.corpus import twitter_samples"
      ]
    },
    {
      "cell_type": "code",
      "source": [
        "all_positive_tweets = twitter_samples.strings('positive_tweets.json')\n",
        "all_negative_tweets = twitter_samples.strings('negative_tweets.json')\n",
        "\n",
        "data = all_positive_tweets +all_negative_tweets\n",
        "\n",
        "lable_positive = [1]* len(all_positive_tweets)\n",
        "lable_negative = [0]* len(all_negative_tweets)\n",
        "\n",
        "lables = lable_positive + lable_negative"
      ],
      "metadata": {
        "id": "w3OxmT0KZpBu"
      },
      "execution_count": 23,
      "outputs": []
    },
    {
      "cell_type": "code",
      "source": [
        "#Train test split: 20% will be in the test set, and 80% in the training set.\n",
        "\n",
        "len_pos_data_train = int(len(all_positive_tweets)*0.8)\n",
        "len_neg_data_train = int(len(all_negative_tweets)*0.8)\n",
        "\n",
        "x_train = all_positive_tweets[0:len_pos_data_train] + all_negative_tweets[0:len_neg_data_train]\n",
        "x_test =  all_positive_tweets[len_pos_data_train:] + all_negative_tweets[len_neg_data_train:]\n",
        "\n",
        "lable_train = lable_positive[0:len_pos_data_train]+lable_negative[0:len_pos_data_train]\n",
        "lable_test =  lable_positive[len_pos_data_train:]+lable_negative[len_pos_data_train:]"
      ],
      "metadata": {
        "id": "MGop3-01Zwn5"
      },
      "execution_count": 24,
      "outputs": []
    },
    {
      "cell_type": "code",
      "source": [
        "#preprocessing twitter\n",
        "\n",
        "import re\n",
        "nltk.download('stopwords')\n",
        "from nltk.corpus import stopwords\n",
        "from nltk.tokenize import TweetTokenizer\n",
        "import string\n",
        "from nltk.stem import PorterStemmer\n",
        "\n",
        "stopwords_english = stopwords.words('english')\n",
        "\n",
        "tokenizer = TweetTokenizer(preserve_case=False, strip_handles=True,\n",
        "                               reduce_len=True)\n",
        "\n",
        "\n",
        "# Instantiate stemming class\n",
        "stemmer = PorterStemmer()\n",
        "\n",
        "def preprocessing_twitter(text):\n",
        "  # remove old style retweet text \"RT\"\n",
        "  text = re.sub(r'^RT[\\s]+', '', text)\n",
        "\n",
        "  # remove hyperlinks\n",
        "  text = re.sub(r'https?://[^\\s\\n\\r]+', '', text)\n",
        "\n",
        "  # remove hashtags\n",
        "  # only removing the hash # sign from the word\n",
        "  text = re.sub(r'#', '', text)\n",
        "\n",
        "  # tokenize tweets\n",
        "  text_tokens = tokenizer.tokenize(text)\n",
        "\n",
        "  text_clean = []\n",
        "\n",
        "  for word in text_tokens: # Go through every word in your tokens list\n",
        "    if (word not in stopwords_english and  # remove stopwords\n",
        "        word not in string.punctuation):  # remove punctuation\n",
        "        text_clean.append(word)\n",
        "\n",
        "  text_stem = []\n",
        "\n",
        "  for word in text_clean:\n",
        "    stem_word = stemmer.stem(word)  # stemming word\n",
        "    text_stem.append(stem_word)  # append to the list\n",
        "\n",
        "  return text_stem"
      ],
      "metadata": {
        "id": "jGe3NxYvaHTl"
      },
      "execution_count": null,
      "outputs": []
    },
    {
      "cell_type": "code",
      "source": [
        "# this function will build a dictionary where we can lookup how many times a word appears in the lists of positive or negative tweets.\n",
        "\n",
        "def build_freqs(tweets, lables):\n",
        "\n",
        "  #   Input: tweets: a list of tweets && lables: an m x 1 array with the sentiment label of each tweet (either 0 or 1)\n",
        "  #   Output: freqs: a dictionary mapping each (word, lable) pair to its frequency\n",
        "\n",
        "  word_freq = {}\n",
        "\n",
        "  count_word_pos  = 0\n",
        "  count_word_neg = 0\n",
        "\n",
        "  for index , tweet in enumerate(tweets):\n",
        "    process_tweet = preprocessing_twitter(tweet)\n",
        "\n",
        "    for token in process_tweet:\n",
        "\n",
        "      if (token,lables[index]) in word_freq:\n",
        "        word_freq[token,lables[index]] = word_freq[token,lables[index]]+1\n",
        "      else:\n",
        "        word_freq[token,lables[index]] = 1\n",
        "\n",
        "  return word_freq"
      ],
      "metadata": {
        "id": "KyMu1JvyaQ41"
      },
      "execution_count": 26,
      "outputs": []
    },
    {
      "cell_type": "code",
      "source": [
        "#do for train data\n",
        "word_freq = build_freqs(x_train,lable_train)"
      ],
      "metadata": {
        "id": "C5UFhp6vaWrh"
      },
      "execution_count": null,
      "outputs": []
    },
    {
      "cell_type": "code",
      "source": [
        "# it will build a dictionary where we can lookup the probability of the word condition the positive class and the same for the negative class\n",
        "\n",
        "# count_word_pos and count_word_neg are the total freq number of positive and negative words for all documents respectively\n",
        "count_word_pos = 0\n",
        "count_word_neg = 0\n",
        "\n",
        "for key in word_freq:\n",
        "  if key[1] == 1:\n",
        "    count_word_pos = count_word_pos + word_freq[key]\n",
        "  if key[1] == 0:\n",
        "    count_word_neg = count_word_neg + word_freq[key]\n",
        "\n",
        "# count_word_corpus is the number of unique words in the entire set of documents, for all classes, whether positive or negative.\n",
        "unique_strings = {key[0] for key in word_freq}\n",
        "count_word_corpus = len(unique_strings)\n",
        "\n",
        "word_probiblity\n",
        "\n",
        "for key in word_probiblity:\n",
        "    if key[1] == 1:\n",
        "        word_probiblity[key] = (word_probiblity.get(key)+1)/(count_word_pos+count_word_corpus)\n",
        "        print(word_probiblity.get(key))\n",
        "    elif key[1] == 0:\n",
        "        word_probiblity[key] = (word_probiblity.get(key)+1)/(count_word_neg+count_word_corpus)\n",
        "\n",
        "#count_word_corpus\n",
        "print(word_freq)\n",
        "print(word_probiblity)\n",
        "#count_word_pos\n",
        "#count_word_neg\n"
      ],
      "metadata": {
        "id": "SAjcq1woaYxW"
      },
      "execution_count": null,
      "outputs": []
    },
    {
      "cell_type": "code",
      "source": [
        "# it will build a dictionary where key is word and value is likelihood for word\n",
        "import numpy as np\n",
        "word_likelihood = {}\n",
        "\n",
        "for key in word_probiblity:\n",
        "  if key[0] in word_likelihood:\n",
        "    pass\n",
        "  else:\n",
        "    word_likelihood[key[0]] = np.log(float(word_probiblity.get(key[0],1))/float(word_probiblity.get(key[0],0)))\n",
        "\n",
        "print(word_likelihood)"
      ],
      "metadata": {
        "id": "9ez6kEU0jJPW"
      },
      "execution_count": null,
      "outputs": []
    },
    {
      "cell_type": "code",
      "source": [],
      "metadata": {
        "id": "CLjqyRh7Cv08",
        "outputId": "6738ed5e-fdb2-4857-a396-9a45c34d60dd",
        "colab": {
          "base_uri": "https://localhost:8080/"
        }
      },
      "execution_count": 32,
      "outputs": [
        {
          "output_type": "stream",
          "name": "stdout",
          "text": [
            "Updated dictionary: {('a', 1): 9, ('b', 0): 3, ('b', 1): 6, ('c', 1): 7}\n"
          ]
        }
      ]
    }
  ]
}