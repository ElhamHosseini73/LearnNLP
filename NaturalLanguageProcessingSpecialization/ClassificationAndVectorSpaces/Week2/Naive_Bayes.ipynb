{
  "nbformat": 4,
  "nbformat_minor": 0,
  "metadata": {
    "colab": {
      "provenance": [],
      "authorship_tag": "ABX9TyP7eBiSFkZ/7+XGKF9T4c0N",
      "include_colab_link": true
    },
    "kernelspec": {
      "name": "python3",
      "display_name": "Python 3"
    },
    "language_info": {
      "name": "python"
    }
  },
  "cells": [
    {
      "cell_type": "markdown",
      "metadata": {
        "id": "view-in-github",
        "colab_type": "text"
      },
      "source": [
        "<a href=\"https://colab.research.google.com/github/ElhamHosseini73/LearnNLP/blob/master/NaturalLanguageProcessingSpecialization/ClassificationAndVectorSpaces/Week2/Naive_Bayes.ipynb\" target=\"_parent\"><img src=\"https://colab.research.google.com/assets/colab-badge.svg\" alt=\"Open In Colab\"/></a>"
      ]
    },
    {
      "cell_type": "code",
      "execution_count": 1,
      "metadata": {
        "id": "fculCWfN2h0g",
        "colab": {
          "base_uri": "https://localhost:8080/"
        },
        "outputId": "7616f19f-41ef-4e2f-8df0-83b06ca96666"
      },
      "outputs": [
        {
          "output_type": "stream",
          "name": "stderr",
          "text": [
            "[nltk_data] Downloading package twitter_samples to /root/nltk_data...\n",
            "[nltk_data]   Unzipping corpora/twitter_samples.zip.\n"
          ]
        }
      ],
      "source": [
        "import nltk\n",
        "nltk.download('twitter_samples')\n",
        "from nltk.corpus import twitter_samples"
      ]
    },
    {
      "cell_type": "code",
      "source": [
        "all_positive_tweets = twitter_samples.strings('positive_tweets.json')\n",
        "all_negative_tweets = twitter_samples.strings('negative_tweets.json')\n",
        "\n",
        "data = all_positive_tweets +all_negative_tweets\n",
        "\n",
        "lable_positive = [1]* len(all_positive_tweets)\n",
        "lable_negative = [0]* len(all_negative_tweets)\n",
        "\n",
        "lables = lable_positive + lable_negative"
      ],
      "metadata": {
        "id": "w3OxmT0KZpBu"
      },
      "execution_count": 2,
      "outputs": []
    },
    {
      "cell_type": "code",
      "source": [
        "#Train test split: 20% will be in the test set, and 80% in the training set.\n",
        "\n",
        "len_pos_data_train = int(len(all_positive_tweets)*0.8)\n",
        "len_neg_data_train = int(len(all_negative_tweets)*0.8)\n",
        "\n",
        "x_train = all_positive_tweets[0:len_pos_data_train] + all_negative_tweets[0:len_neg_data_train]\n",
        "x_test =  all_positive_tweets[len_pos_data_train:] + all_negative_tweets[len_neg_data_train:]\n",
        "\n",
        "lable_train = lable_positive[0:len_pos_data_train]+lable_negative[0:len_pos_data_train]\n",
        "lable_test =  lable_positive[len_pos_data_train:]+lable_negative[len_pos_data_train:]"
      ],
      "metadata": {
        "id": "MGop3-01Zwn5"
      },
      "execution_count": 38,
      "outputs": []
    },
    {
      "cell_type": "code",
      "source": [
        "#preprocessing twitter\n",
        "\n",
        "import re\n",
        "nltk.download('stopwords')\n",
        "from nltk.corpus import stopwords\n",
        "from nltk.tokenize import TweetTokenizer\n",
        "import string\n",
        "from nltk.stem import PorterStemmer\n",
        "\n",
        "stopwords_english = stopwords.words('english')\n",
        "\n",
        "tokenizer = TweetTokenizer(preserve_case=False, strip_handles=True,\n",
        "                               reduce_len=True)\n",
        "\n",
        "\n",
        "# Instantiate stemming class\n",
        "stemmer = PorterStemmer()\n",
        "\n",
        "def preprocessing_twitter(text):\n",
        "  # remove old style retweet text \"RT\"\n",
        "  text = re.sub(r'^RT[\\s]+', '', text)\n",
        "\n",
        "  # remove hyperlinks\n",
        "  text = re.sub(r'https?://[^\\s\\n\\r]+', '', text)\n",
        "\n",
        "  # remove hashtags\n",
        "  # only removing the hash # sign from the word\n",
        "  text = re.sub(r'#', '', text)\n",
        "\n",
        "  # tokenize tweets\n",
        "  text_tokens = tokenizer.tokenize(text)\n",
        "\n",
        "  text_clean = []\n",
        "\n",
        "  for word in text_tokens: # Go through every word in your tokens list\n",
        "    if (word not in stopwords_english and  # remove stopwords\n",
        "        word not in string.punctuation):  # remove punctuation\n",
        "        text_clean.append(word)\n",
        "\n",
        "  text_stem = []\n",
        "\n",
        "  for word in text_clean:\n",
        "    stem_word = stemmer.stem(word)  # stemming word\n",
        "    text_stem.append(stem_word)  # append to the list\n",
        "\n",
        "  return text_stem"
      ],
      "metadata": {
        "id": "jGe3NxYvaHTl"
      },
      "execution_count": null,
      "outputs": []
    },
    {
      "cell_type": "code",
      "source": [
        "# this function will build a dictionary where we can lookup how many times a word appears in the lists of positive or negative tweets.\n",
        "\n",
        "def build_freqs(tweets, lables):\n",
        "\n",
        "  #   Input: tweets: a list of tweets && lables: an m x 1 array with the sentiment label of each tweet (either 0 or 1)\n",
        "  #   Output: freqs: a dictionary mapping each (word, lable) pair to its frequency\n",
        "\n",
        "  word_freq = {}\n",
        "\n",
        "  count_word_pos  = 0\n",
        "  count_word_neg = 0\n",
        "\n",
        "  for index , tweet in enumerate(tweets):\n",
        "    process_tweet = preprocessing_twitter(tweet)\n",
        "\n",
        "    for token in process_tweet:\n",
        "\n",
        "      if (token,lables[index]) in word_freq:\n",
        "        word_freq[token,lables[index]] = word_freq[token,lables[index]]+1\n",
        "      else:\n",
        "        word_freq[token,lables[index]] = 1\n",
        "\n",
        "  return word_freq"
      ],
      "metadata": {
        "id": "KyMu1JvyaQ41"
      },
      "execution_count": 5,
      "outputs": []
    },
    {
      "cell_type": "code",
      "source": [
        "#do for train data\n",
        "word_freq = build_freqs(x_train,lable_train)"
      ],
      "metadata": {
        "id": "C5UFhp6vaWrh"
      },
      "execution_count": 6,
      "outputs": []
    },
    {
      "cell_type": "code",
      "source": [
        "# it will build a dictionary where we can lookup the probability of the word condition the positive class and the same for the negative class\n",
        "\n",
        "# count_word_pos and count_word_neg are the total freq number of positive and negative words for all documents respectively\n",
        "count_word_pos = 0\n",
        "count_word_neg = 0\n",
        "\n",
        "for key in word_freq:\n",
        "  if key[1] == 1:\n",
        "    count_word_pos = count_word_pos + word_freq[key]\n",
        "  if key[1] == 0:\n",
        "    count_word_neg = count_word_neg + word_freq[key]\n",
        "\n",
        "# count_word_corpus is the number of unique words in the entire set of documents, for all classes, whether positive or negative.\n",
        "unique_strings = {key[0] for key in word_freq}\n",
        "count_word_corpus = len(unique_strings)\n",
        "\n",
        "word_probiblity ={}\n",
        "\n",
        "for key in word_freq:\n",
        "    if key[1] == 1:\n",
        "        word_probiblity[key] = (word_freq.get(key)+1)/(count_word_pos+count_word_corpus)\n",
        "        if (key[0],0) not in word_freq:\n",
        "          word_probiblity[(key[0],0)] = 1/(count_word_pos+count_word_corpus)\n",
        "    elif key[1] == 0:\n",
        "        word_probiblity[key] = (word_freq.get(key)+1)/(count_word_neg+count_word_corpus)\n",
        "        if (key[0],1) not in word_freq:\n",
        "          word_probiblity[(key[0],1)] = 1/(count_word_neg+count_word_corpus)\n"
      ],
      "metadata": {
        "id": "SAjcq1woaYxW"
      },
      "execution_count": 7,
      "outputs": []
    },
    {
      "cell_type": "code",
      "source": [
        "# it will build a dictionary where key is word and value is likelihood for word\n",
        "import numpy as np\n",
        "word_likelihood = {}\n",
        "\n",
        "\n",
        "for key in word_probiblity:\n",
        "\n",
        "  if key[0] in word_likelihood:\n",
        "    pass\n",
        "  else:\n",
        "    word_likelihood[key[0]] = np.log(float(word_probiblity[(key[0],1)])/float(word_probiblity[(key[0],0)]))"
      ],
      "metadata": {
        "id": "9ez6kEU0jJPW"
      },
      "execution_count": 8,
      "outputs": []
    },
    {
      "cell_type": "code",
      "source": [
        "#calculate probability for each class is: the probability that the document is positive or negetive .\n",
        "\n",
        "number_total_document = len(lable_train)\n",
        "number_posetive_document = lable_train.count(1)\n",
        "number_negetive_document = lable_train.count(0)\n",
        "\n",
        "p_posetive = number_posetive_document/number_total_document\n",
        "p_negetive = number_negetive_document/number_total_document\n",
        "\n",
        "prior = np.log(p_posetive/p_negetive)"
      ],
      "metadata": {
        "id": "CLjqyRh7Cv08"
      },
      "execution_count": 9,
      "outputs": []
    },
    {
      "cell_type": "code",
      "source": [
        "#Test:\n",
        "\n",
        "lable_predict_test = []\n",
        "def naive_bayes_predict(tweet, logprior, loglikelihood):\n",
        "  result_likelihood = logprior\n",
        "  result_preprocess = preprocessing_twitter(tweet)\n",
        "  for word in result_preprocess:\n",
        "    if word in loglikelihood:\n",
        "      result_likelihood += loglikelihood[word]\n",
        "\n",
        "  if result_likelihood>=0:\n",
        "    return 1\n",
        "  else:\n",
        "    return 0"
      ],
      "metadata": {
        "id": "GJXSUSw_lHZE"
      },
      "execution_count": 32,
      "outputs": []
    },
    {
      "cell_type": "code",
      "source": [
        "lable_predict_test = []\n",
        "\n",
        "for tweet in x_test:\n",
        "  lable_predict_test.append(naive_bayes_predict(tweet, prior, word_likelihood))\n"
      ],
      "metadata": {
        "id": "ZcPFma4ggMSX"
      },
      "execution_count": 34,
      "outputs": []
    },
    {
      "cell_type": "code",
      "source": [
        "# check the accuracy\n",
        "count_true = 0\n",
        "for index in range(len(lable_predict_test)):\n",
        "  if lable_predict_test[index] ==lable_test[index]:\n",
        "    count_true +=1\n",
        "\n",
        "accuracy = count_true/ len(lable_test)*100\n",
        "\n",
        "print(accuracy)"
      ],
      "metadata": {
        "id": "bCtU55A7kUdr",
        "outputId": "b8b69ac9-ea29-49c7-90fe-f2ebbcf4bf1b",
        "colab": {
          "base_uri": "https://localhost:8080/"
        }
      },
      "execution_count": 41,
      "outputs": [
        {
          "output_type": "stream",
          "name": "stdout",
          "text": [
            "99.5\n"
          ]
        }
      ]
    }
  ]
}